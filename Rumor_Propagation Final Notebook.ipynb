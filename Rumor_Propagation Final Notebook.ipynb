{
 "cells": [
  {
   "cell_type": "code",
   "execution_count": 0,
   "metadata": {
    "colab": {},
    "colab_type": "code",
    "id": "jg95VOVPtsOM"
   },
   "outputs": [],
   "source": [
    "#importing Libarries\n",
    "import warnings\n",
    "warnings.filterwarnings('ignore')\n",
    "\n",
    "import numpy as np\n",
    "import pandas as pd\n",
    "import matplotlib.pyplot as plt\n",
    "import seaborn as sns\n",
    "import nltk\n",
    "import re\n",
    "from wordcloud import WordCloud\n",
    "plt.style.use('ggplot')"
   ]
  },
  {
   "cell_type": "code",
   "execution_count": 0,
   "metadata": {
    "colab": {},
    "colab_type": "code",
    "id": "UgpFcEWAuXOK"
   },
   "outputs": [],
   "source": [
    "#Deep Learning, with tensorflow and keras\n",
    "from tensorflow.keras.preprocessing.text import Tokenizer\n",
    "from tensorflow.keras.preprocessing.sequence import pad_sequences\n",
    "from tensorflow.keras.models import Sequential\n",
    "from tensorflow.keras.layers import Dense, Embedding, LSTM, Conv1D, MaxPool1D\n",
    "from sklearn.model_selection import train_test_split\n",
    "from sklearn.metrics import classification_report, accuracy_score"
   ]
  },
  {
   "cell_type": "code",
   "execution_count": 0,
   "metadata": {
    "colab": {
     "base_uri": "https://localhost:8080/",
     "height": 118
    },
    "colab_type": "code",
    "id": "VRvZI-aFurfp",
    "outputId": "a4bdae09-3705-4bfe-c462-3bd6f5004114"
   },
   "outputs": [
    {
     "name": "stdout",
     "output_type": "stream",
     "text": [
      "Go to this URL in a browser: https://accounts.google.com/o/oauth2/auth?client_id=947318989803-6bn6qk8qdgf4n4g3pfee6491hc0brc4i.apps.googleusercontent.com&redirect_uri=urn%3aietf%3awg%3aoauth%3a2.0%3aoob&response_type=code&scope=email%20https%3a%2f%2fwww.googleapis.com%2fauth%2fdocs.test%20https%3a%2f%2fwww.googleapis.com%2fauth%2fdrive%20https%3a%2f%2fwww.googleapis.com%2fauth%2fdrive.photos.readonly%20https%3a%2f%2fwww.googleapis.com%2fauth%2fpeopleapi.readonly\n",
      "\n",
      "Enter your authorization code:\n",
      "··········\n",
      "Mounted at /gdrive\n"
     ]
    }
   ],
   "source": [
    "#Accesing to my Google Drive Account to take the Dataset\n",
    "# Google file system\n",
    "from google.colab import drive\n",
    "drive.mount('/gdrive', force_remount=True)"
   ]
  },
  {
   "cell_type": "markdown",
   "metadata": {
    "colab_type": "text",
    "id": "8Qt9pm52u_xa"
   },
   "source": [
    "# Fake News"
   ]
  },
  {
   "cell_type": "code",
   "execution_count": 0,
   "metadata": {
    "colab": {},
    "colab_type": "code",
    "id": "au2vX7dgu3T5"
   },
   "outputs": [],
   "source": [
    "#Fake News Dataset\n",
    "ATT_FILE= \"/gdrive/My Drive/TFM/Fake.csv\" "
   ]
  },
  {
   "cell_type": "code",
   "execution_count": 0,
   "metadata": {
    "colab": {
     "base_uri": "https://localhost:8080/",
     "height": 391
    },
    "colab_type": "code",
    "id": "9EYRWS5Uu35p",
    "outputId": "e4c5db01-a414-4772-ec02-0798a32e72ed"
   },
   "outputs": [
    {
     "data": {
      "text/html": [
       "<div>\n",
       "<style scoped>\n",
       "    .dataframe tbody tr th:only-of-type {\n",
       "        vertical-align: middle;\n",
       "    }\n",
       "\n",
       "    .dataframe tbody tr th {\n",
       "        vertical-align: top;\n",
       "    }\n",
       "\n",
       "    .dataframe thead th {\n",
       "        text-align: right;\n",
       "    }\n",
       "</style>\n",
       "<table border=\"1\" class=\"dataframe\">\n",
       "  <thead>\n",
       "    <tr style=\"text-align: right;\">\n",
       "      <th></th>\n",
       "      <th>title</th>\n",
       "      <th>text</th>\n",
       "      <th>subject</th>\n",
       "      <th>date</th>\n",
       "    </tr>\n",
       "  </thead>\n",
       "  <tbody>\n",
       "    <tr>\n",
       "      <th>0</th>\n",
       "      <td>Donald Trump Sends Out Embarrassing New Year’...</td>\n",
       "      <td>Donald Trump just couldn t wish all Americans ...</td>\n",
       "      <td>News</td>\n",
       "      <td>December 31, 2017</td>\n",
       "    </tr>\n",
       "    <tr>\n",
       "      <th>1</th>\n",
       "      <td>Drunk Bragging Trump Staffer Started Russian ...</td>\n",
       "      <td>House Intelligence Committee Chairman Devin Nu...</td>\n",
       "      <td>News</td>\n",
       "      <td>December 31, 2017</td>\n",
       "    </tr>\n",
       "    <tr>\n",
       "      <th>2</th>\n",
       "      <td>Sheriff David Clarke Becomes An Internet Joke...</td>\n",
       "      <td>On Friday, it was revealed that former Milwauk...</td>\n",
       "      <td>News</td>\n",
       "      <td>December 30, 2017</td>\n",
       "    </tr>\n",
       "    <tr>\n",
       "      <th>3</th>\n",
       "      <td>Trump Is So Obsessed He Even Has Obama’s Name...</td>\n",
       "      <td>On Christmas day, Donald Trump announced that ...</td>\n",
       "      <td>News</td>\n",
       "      <td>December 29, 2017</td>\n",
       "    </tr>\n",
       "    <tr>\n",
       "      <th>4</th>\n",
       "      <td>Pope Francis Just Called Out Donald Trump Dur...</td>\n",
       "      <td>Pope Francis used his annual Christmas Day mes...</td>\n",
       "      <td>News</td>\n",
       "      <td>December 25, 2017</td>\n",
       "    </tr>\n",
       "    <tr>\n",
       "      <th>...</th>\n",
       "      <td>...</td>\n",
       "      <td>...</td>\n",
       "      <td>...</td>\n",
       "      <td>...</td>\n",
       "    </tr>\n",
       "    <tr>\n",
       "      <th>23476</th>\n",
       "      <td>McPain: John McCain Furious That Iran Treated ...</td>\n",
       "      <td>21st Century Wire says As 21WIRE reported earl...</td>\n",
       "      <td>Middle-east</td>\n",
       "      <td>January 16, 2016</td>\n",
       "    </tr>\n",
       "    <tr>\n",
       "      <th>23477</th>\n",
       "      <td>JUSTICE? Yahoo Settles E-mail Privacy Class-ac...</td>\n",
       "      <td>21st Century Wire says It s a familiar theme. ...</td>\n",
       "      <td>Middle-east</td>\n",
       "      <td>January 16, 2016</td>\n",
       "    </tr>\n",
       "    <tr>\n",
       "      <th>23478</th>\n",
       "      <td>Sunnistan: US and Allied ‘Safe Zone’ Plan to T...</td>\n",
       "      <td>Patrick Henningsen  21st Century WireRemember ...</td>\n",
       "      <td>Middle-east</td>\n",
       "      <td>January 15, 2016</td>\n",
       "    </tr>\n",
       "    <tr>\n",
       "      <th>23479</th>\n",
       "      <td>How to Blow $700 Million: Al Jazeera America F...</td>\n",
       "      <td>21st Century Wire says Al Jazeera America will...</td>\n",
       "      <td>Middle-east</td>\n",
       "      <td>January 14, 2016</td>\n",
       "    </tr>\n",
       "    <tr>\n",
       "      <th>23480</th>\n",
       "      <td>10 U.S. Navy Sailors Held by Iranian Military ...</td>\n",
       "      <td>21st Century Wire says As 21WIRE predicted in ...</td>\n",
       "      <td>Middle-east</td>\n",
       "      <td>January 12, 2016</td>\n",
       "    </tr>\n",
       "  </tbody>\n",
       "</table>\n",
       "<p>23481 rows × 4 columns</p>\n",
       "</div>"
      ],
      "text/plain": [
       "                                                   title  ...               date\n",
       "0       Donald Trump Sends Out Embarrassing New Year’...  ...  December 31, 2017\n",
       "1       Drunk Bragging Trump Staffer Started Russian ...  ...  December 31, 2017\n",
       "2       Sheriff David Clarke Becomes An Internet Joke...  ...  December 30, 2017\n",
       "3       Trump Is So Obsessed He Even Has Obama’s Name...  ...  December 29, 2017\n",
       "4       Pope Francis Just Called Out Donald Trump Dur...  ...  December 25, 2017\n",
       "...                                                  ...  ...                ...\n",
       "23476  McPain: John McCain Furious That Iran Treated ...  ...   January 16, 2016\n",
       "23477  JUSTICE? Yahoo Settles E-mail Privacy Class-ac...  ...   January 16, 2016\n",
       "23478  Sunnistan: US and Allied ‘Safe Zone’ Plan to T...  ...   January 15, 2016\n",
       "23479  How to Blow $700 Million: Al Jazeera America F...  ...   January 14, 2016\n",
       "23480  10 U.S. Navy Sailors Held by Iranian Military ...  ...   January 12, 2016\n",
       "\n",
       "[23481 rows x 4 columns]"
      ]
     },
     "execution_count": 5,
     "metadata": {
      "tags": []
     },
     "output_type": "execute_result"
    }
   ],
   "source": [
    "fake = pd.read_csv(ATT_FILE,sep=',')\n",
    "fake"
   ]
  },
  {
   "cell_type": "code",
   "execution_count": 0,
   "metadata": {
    "colab": {
     "base_uri": "https://localhost:8080/",
     "height": 131
    },
    "colab_type": "code",
    "id": "_30Nu6jXvMXB",
    "outputId": "800b9709-a967-412e-de1c-b699f2b48868"
   },
   "outputs": [
    {
     "name": "stdout",
     "output_type": "stream",
     "text": [
      "News:\t9050\n",
      "politics:\t6841\n",
      "left-news:\t4459\n",
      "Government News:\t1570\n",
      "US_News:\t783\n",
      "Middle-east:\t778\n",
      "Total Records:\t23481\n"
     ]
    }
   ],
   "source": [
    "#Counting by Subjects \n",
    "for key,count in fake.subject.value_counts().iteritems():\n",
    "    print(f\"{key}:\\t{count}\")\n",
    "    \n",
    "#Getting Total Rows\n",
    "print(f\"Total Records:\\t{fake.shape[0]}\")"
   ]
  },
  {
   "cell_type": "code",
   "execution_count": 0,
   "metadata": {
    "colab": {
     "base_uri": "https://localhost:8080/",
     "height": 131
    },
    "colab_type": "code",
    "id": "VsPd9O5mveMq",
    "outputId": "78dc8952-be0b-4fab-fa97-668f7799f136"
   },
   "outputs": [
    {
     "data": {
      "text/plain": [
       "News               9050\n",
       "politics           6841\n",
       "left-news          4459\n",
       "Government News    1570\n",
       "US_News             783\n",
       "Middle-east         778\n",
       "Name: subject, dtype: int64"
      ]
     },
     "execution_count": 7,
     "metadata": {
      "tags": []
     },
     "output_type": "execute_result"
    }
   ],
   "source": [
    "fake['subject'].value_counts()"
   ]
  },
  {
   "cell_type": "code",
   "execution_count": 0,
   "metadata": {
    "colab": {
     "base_uri": "https://localhost:8080/",
     "height": 355
    },
    "colab_type": "code",
    "id": "jXm-8FPIv5u4",
    "outputId": "ce0dcfc1-c47d-43af-c553-4a1bf38ace3d"
   },
   "outputs": [
    {
     "data": {
      "image/png": "[encoded data removed]",
      "text/plain": [
       "<Figure size 576x360 with 1 Axes>"
      ]
     },
     "metadata": {
      "needs_background": "light",
      "tags": []
     },
     "output_type": "display_data"
    }
   ],
   "source": [
    "plt.figure(figsize=(8,5))\n",
    "sns.countplot(\"subject\", data=fake)\n",
    "plt.title('Subject Value Count')\n",
    "plt.show()"
   ]
  },
  {
   "cell_type": "markdown",
   "metadata": {
    "colab_type": "text",
    "id": "cYGdQgPwwLhq"
   },
   "source": [
    "## Word Cloud"
   ]
  },
  {
   "cell_type": "code",
   "execution_count": 0,
   "metadata": {
    "colab": {
     "base_uri": "https://localhost:8080/",
     "height": 253
    },
    "colab_type": "code",
    "id": "39bqC3HXwJSk",
    "outputId": "9b527c9f-530d-4f0b-c17f-b723e9f3bbee"
   },
   "outputs": [
    {
     "data": {
      "image/png": "[encoded data removed]",
      "text/plain": [
       "<Figure size 576x432 with 1 Axes>"
      ]
     },
     "metadata": {
      "needs_background": "light",
      "tags": []
     },
     "output_type": "display_data"
    }
   ],
   "source": [
    "#WordCloudg\n",
    "import matplotlib.pylab as plt\n",
    "allwords = ' '.join([fk for fk in fake['text']])\n",
    "wordcloud = WordCloud(width=600, height=300, random_state=21, max_font_size=119).generate(allwords)\n",
    "plt.figure(figsize=(8,6))\n",
    "plt.imshow(wordcloud)\n",
    "plt.axis('off')\n",
    "plt.show()"
   ]
  },
  {
   "cell_type": "markdown",
   "metadata": {
    "colab_type": "text",
    "id": "vSopHLQOxt4p"
   },
   "source": [
    "## Real News Dataset"
   ]
  },
  {
   "cell_type": "code",
   "execution_count": 0,
   "metadata": {
    "colab": {},
    "colab_type": "code",
    "id": "KONRGoY4xrO0"
   },
   "outputs": [],
   "source": [
    "#Fake News Dataset\n",
    "att =  \"/gdrive/My Drive/TFM/True.csv\" "
   ]
  },
  {
   "cell_type": "code",
   "execution_count": 0,
   "metadata": {
    "colab": {
     "base_uri": "https://localhost:8080/",
     "height": 391
    },
    "colab_type": "code",
    "id": "cfwBvXreyA0s",
    "outputId": "ee5173f5-1c9f-4d01-8195-cc171ae39604"
   },
   "outputs": [
    {
     "data": {
      "text/html": [
       "<div>\n",
       "<style scoped>\n",
       "    .dataframe tbody tr th:only-of-type {\n",
       "        vertical-align: middle;\n",
       "    }\n",
       "\n",
       "    .dataframe tbody tr th {\n",
       "        vertical-align: top;\n",
       "    }\n",
       "\n",
       "    .dataframe thead th {\n",
       "        text-align: right;\n",
       "    }\n",
       "</style>\n",
       "<table border=\"1\" class=\"dataframe\">\n",
       "  <thead>\n",
       "    <tr style=\"text-align: right;\">\n",
       "      <th></th>\n",
       "      <th>title</th>\n",
       "      <th>text</th>\n",
       "      <th>subject</th>\n",
       "      <th>date</th>\n",
       "    </tr>\n",
       "  </thead>\n",
       "  <tbody>\n",
       "    <tr>\n",
       "      <th>0</th>\n",
       "      <td>As U.S. budget fight looms, Republicans flip t...</td>\n",
       "      <td>WASHINGTON (Reuters) - The head of a conservat...</td>\n",
       "      <td>politicsNews</td>\n",
       "      <td>December 31, 2017</td>\n",
       "    </tr>\n",
       "    <tr>\n",
       "      <th>1</th>\n",
       "      <td>U.S. military to accept transgender recruits o...</td>\n",
       "      <td>WASHINGTON (Reuters) - Transgender people will...</td>\n",
       "      <td>politicsNews</td>\n",
       "      <td>December 29, 2017</td>\n",
       "    </tr>\n",
       "    <tr>\n",
       "      <th>2</th>\n",
       "      <td>Senior U.S. Republican senator: 'Let Mr. Muell...</td>\n",
       "      <td>WASHINGTON (Reuters) - The special counsel inv...</td>\n",
       "      <td>politicsNews</td>\n",
       "      <td>December 31, 2017</td>\n",
       "    </tr>\n",
       "    <tr>\n",
       "      <th>3</th>\n",
       "      <td>FBI Russia probe helped by Australian diplomat...</td>\n",
       "      <td>WASHINGTON (Reuters) - Trump campaign adviser ...</td>\n",
       "      <td>politicsNews</td>\n",
       "      <td>December 30, 2017</td>\n",
       "    </tr>\n",
       "    <tr>\n",
       "      <th>4</th>\n",
       "      <td>Trump wants Postal Service to charge 'much mor...</td>\n",
       "      <td>SEATTLE/WASHINGTON (Reuters) - President Donal...</td>\n",
       "      <td>politicsNews</td>\n",
       "      <td>December 29, 2017</td>\n",
       "    </tr>\n",
       "    <tr>\n",
       "      <th>...</th>\n",
       "      <td>...</td>\n",
       "      <td>...</td>\n",
       "      <td>...</td>\n",
       "      <td>...</td>\n",
       "    </tr>\n",
       "    <tr>\n",
       "      <th>21412</th>\n",
       "      <td>'Fully committed' NATO backs new U.S. approach...</td>\n",
       "      <td>BRUSSELS (Reuters) - NATO allies on Tuesday we...</td>\n",
       "      <td>worldnews</td>\n",
       "      <td>August 22, 2017</td>\n",
       "    </tr>\n",
       "    <tr>\n",
       "      <th>21413</th>\n",
       "      <td>LexisNexis withdrew two products from Chinese ...</td>\n",
       "      <td>LONDON (Reuters) - LexisNexis, a provider of l...</td>\n",
       "      <td>worldnews</td>\n",
       "      <td>August 22, 2017</td>\n",
       "    </tr>\n",
       "    <tr>\n",
       "      <th>21414</th>\n",
       "      <td>Minsk cultural hub becomes haven from authorities</td>\n",
       "      <td>MINSK (Reuters) - In the shadow of disused Sov...</td>\n",
       "      <td>worldnews</td>\n",
       "      <td>August 22, 2017</td>\n",
       "    </tr>\n",
       "    <tr>\n",
       "      <th>21415</th>\n",
       "      <td>Vatican upbeat on possibility of Pope Francis ...</td>\n",
       "      <td>MOSCOW (Reuters) - Vatican Secretary of State ...</td>\n",
       "      <td>worldnews</td>\n",
       "      <td>August 22, 2017</td>\n",
       "    </tr>\n",
       "    <tr>\n",
       "      <th>21416</th>\n",
       "      <td>Indonesia to buy $1.14 billion worth of Russia...</td>\n",
       "      <td>JAKARTA (Reuters) - Indonesia will buy 11 Sukh...</td>\n",
       "      <td>worldnews</td>\n",
       "      <td>August 22, 2017</td>\n",
       "    </tr>\n",
       "  </tbody>\n",
       "</table>\n",
       "<p>21417 rows × 4 columns</p>\n",
       "</div>"
      ],
      "text/plain": [
       "                                                   title  ...                date\n",
       "0      As U.S. budget fight looms, Republicans flip t...  ...  December 31, 2017 \n",
       "1      U.S. military to accept transgender recruits o...  ...  December 29, 2017 \n",
       "2      Senior U.S. Republican senator: 'Let Mr. Muell...  ...  December 31, 2017 \n",
       "3      FBI Russia probe helped by Australian diplomat...  ...  December 30, 2017 \n",
       "4      Trump wants Postal Service to charge 'much mor...  ...  December 29, 2017 \n",
       "...                                                  ...  ...                 ...\n",
       "21412  'Fully committed' NATO backs new U.S. approach...  ...    August 22, 2017 \n",
       "21413  LexisNexis withdrew two products from Chinese ...  ...    August 22, 2017 \n",
       "21414  Minsk cultural hub becomes haven from authorities  ...    August 22, 2017 \n",
       "21415  Vatican upbeat on possibility of Pope Francis ...  ...    August 22, 2017 \n",
       "21416  Indonesia to buy $1.14 billion worth of Russia...  ...    August 22, 2017 \n",
       "\n",
       "[21417 rows x 4 columns]"
      ]
     },
     "execution_count": 11,
     "metadata": {
      "tags": []
     },
     "output_type": "execute_result"
    }
   ],
   "source": [
    "real = pd.read_csv(att, sep=',')\n",
    "real"
   ]
  },
  {
   "cell_type": "code",
   "execution_count": 0,
   "metadata": {
    "colab": {
     "base_uri": "https://localhost:8080/",
     "height": 66
    },
    "colab_type": "code",
    "id": "83kT7xVJyR62",
    "outputId": "ea7e9842-0f48-4292-c546-27733e658ea1"
   },
   "outputs": [
    {
     "data": {
      "text/plain": [
       "politicsNews    11272\n",
       "worldnews       10145\n",
       "Name: subject, dtype: int64"
      ]
     },
     "execution_count": 12,
     "metadata": {
      "tags": []
     },
     "output_type": "execute_result"
    }
   ],
   "source": [
    "real['subject'].value_counts()"
   ]
  },
  {
   "cell_type": "code",
   "execution_count": 0,
   "metadata": {
    "colab": {
     "base_uri": "https://localhost:8080/",
     "height": 315
    },
    "colab_type": "code",
    "id": "-D0LrTBXykdK",
    "outputId": "9ab2c08e-082c-4d1e-a622-426d054b4abf"
   },
   "outputs": [
    {
     "data": {
      "text/plain": [
       "Text(0.5, 1.0, 'Subject Value Count')"
      ]
     },
     "execution_count": 13,
     "metadata": {
      "tags": []
     },
     "output_type": "execute_result"
    },
    {
     "data": {
      "image/png": "[encoded data removed]",
      "text/plain": [
       "<Figure size 432x288 with 1 Axes>"
      ]
     },
     "metadata": {
      "needs_background": "light",
      "tags": []
     },
     "output_type": "display_data"
    }
   ],
   "source": [
    "sns.countplot('subject',data=real)\n",
    "plt.title('Subject Value Count')"
   ]
  },
  {
   "cell_type": "code",
   "execution_count": 0,
   "metadata": {
    "colab": {},
    "colab_type": "code",
    "id": "8Zn4fGKXyqpK"
   },
   "outputs": [],
   "source": [
    "#First Creating list of index that do not have publication part\n",
    "unknown_publishers = []\n",
    "for index,row in enumerate(real.text.values):\n",
    "    try:\n",
    "        record = row.split(\" -\", maxsplit=1)\n",
    "        #if no text part is present, following will give error\n",
    "        record[1]\n",
    "        #if len of piblication part is greater than 260\n",
    "        #following will give error, ensuring no text having \"-\" in between is counted\n",
    "        assert(len(record[0]) < 260)\n",
    "    except:\n",
    "        unknown_publishers.append(index)"
   ]
  },
  {
   "cell_type": "code",
   "execution_count": 0,
   "metadata": {
    "colab": {
     "base_uri": "https://localhost:8080/",
     "height": 407
    },
    "colab_type": "code",
    "id": "Tf-9l2Nvy1I7",
    "outputId": "09e92f2b-5b48-4806-bbe5-6ea5d579a4a2"
   },
   "outputs": [
    {
     "data": {
      "text/plain": [
       "3488     The White House on Wednesday disclosed a group...\n",
       "4358     Neil Gorsuch, President Donald Trump’s appoint...\n",
       "4465     WASHINGTON The clock began running out this we...\n",
       "5784     Federal appeals court judge Neil Gorsuch, the ...\n",
       "6660     Republican members of Congress are complaining...\n",
       "6823     Over the course of the U.S. presidential campa...\n",
       "7922     After going through a week reminiscent of Napo...\n",
       "8194     The following timeline charts the origin and s...\n",
       "8195     Global health officials are racing to better u...\n",
       "8247     U.S. President Barack Obama visited a street m...\n",
       "8465     ALGONAC, MICH.—Parker Fox drifted out of the D...\n",
       "8481     Global health officials are racing to better u...\n",
       "8482     The following timeline charts the origin and s...\n",
       "8505     Global health officials are racing to better u...\n",
       "8506     The following timeline charts the origin and s...\n",
       "8771     In a speech weighted with America’s complicate...\n",
       "8970                                                      \n",
       "9008     The following timeline charts the origin and s...\n",
       "9009     Global health officials are racing to better u...\n",
       "9307     It’s the near future, and North Korea’s regime...\n",
       "9618     GOP leaders have unleashed a stunning level of...\n",
       "9737     Caitlyn Jenner posted a video on Wednesday (Ap...\n",
       "10479    The Democratic and Republican nominees for the...\n",
       "Name: text, dtype: object"
      ]
     },
     "execution_count": 15,
     "metadata": {
      "tags": []
     },
     "output_type": "execute_result"
    }
   ],
   "source": [
    "#Thus we have list of indices where publisher is not mentioned\n",
    "#lets check\n",
    "real.iloc[unknown_publishers].text\n",
    "#true, they do not have text like \"WASHINGTON (Reuters)\""
   ]
  },
  {
   "cell_type": "code",
   "execution_count": 0,
   "metadata": {
    "colab": {},
    "colab_type": "code",
    "id": "kd36yplry7l6"
   },
   "outputs": [],
   "source": [
    "#Seperating Publication info, from actual text\n",
    "publisher = []\n",
    "tmp_text = []\n",
    "for index,row in enumerate(real.text.values):\n",
    "    if index in unknown_publishers:\n",
    "        #Add unknown of publisher not mentioned\n",
    "        tmp_text.append(row)\n",
    "        \n",
    "        publisher.append(\"Unknown\")\n",
    "        continue\n",
    "    record = row.split(\" -\", maxsplit=1)\n",
    "    publisher.append(record[0])\n",
    "    tmp_text.append(record[1])"
   ]
  },
  {
   "cell_type": "code",
   "execution_count": 0,
   "metadata": {
    "colab": {},
    "colab_type": "code",
    "id": "0nBw6ilZ0OAF"
   },
   "outputs": [],
   "source": [
    "#Replace existing text column with new text\n",
    "#add seperate column for publication info\n",
    "real[\"publisher\"] = publisher\n",
    "real[\"text\"] = tmp_text\n",
    "\n",
    "del publisher, tmp_text, record, unknown_publishers"
   ]
  },
  {
   "cell_type": "code",
   "execution_count": 0,
   "metadata": {
    "colab": {
     "base_uri": "https://localhost:8080/",
     "height": 910
    },
    "colab_type": "code",
    "id": "74lAVpb20QtF",
    "outputId": "341dfc3e-55be-4682-ca5f-84215c2e8632"
   },
   "outputs": [
    {
     "data": {
      "text/html": [
       "<div>\n",
       "<style scoped>\n",
       "    .dataframe tbody tr th:only-of-type {\n",
       "        vertical-align: middle;\n",
       "    }\n",
       "\n",
       "    .dataframe tbody tr th {\n",
       "        vertical-align: top;\n",
       "    }\n",
       "\n",
       "    .dataframe thead th {\n",
       "        text-align: right;\n",
       "    }\n",
       "</style>\n",
       "<table border=\"1\" class=\"dataframe\">\n",
       "  <thead>\n",
       "    <tr style=\"text-align: right;\">\n",
       "      <th></th>\n",
       "      <th>title</th>\n",
       "      <th>text</th>\n",
       "      <th>subject</th>\n",
       "      <th>date</th>\n",
       "      <th>publisher</th>\n",
       "    </tr>\n",
       "  </thead>\n",
       "  <tbody>\n",
       "    <tr>\n",
       "      <th>21387</th>\n",
       "      <td>Former Libyan prime minister freed after abduc...</td>\n",
       "      <td>Former Libyan Prime Minister Ali Zeidan has b...</td>\n",
       "      <td>worldnews</td>\n",
       "      <td>August 23, 2017</td>\n",
       "      <td>TRIPOLI (Reuters)</td>\n",
       "    </tr>\n",
       "    <tr>\n",
       "      <th>21388</th>\n",
       "      <td>Britain outlines plans to break free of Europe...</td>\n",
       "      <td>Britain on Wednesday outlined several escape ...</td>\n",
       "      <td>worldnews</td>\n",
       "      <td>August 22, 2017</td>\n",
       "      <td>LONDON (Reuters)</td>\n",
       "    </tr>\n",
       "    <tr>\n",
       "      <th>21389</th>\n",
       "      <td>Trump must be respected as U.S. president, say...</td>\n",
       "      <td>Chancellor Angela Merkel said on Wednesday Do...</td>\n",
       "      <td>worldnews</td>\n",
       "      <td>August 23, 2017</td>\n",
       "      <td>BERLIN (Reuters)</td>\n",
       "    </tr>\n",
       "    <tr>\n",
       "      <th>21390</th>\n",
       "      <td>Pakistan rejects role of 'scapegoat for U.S. f...</td>\n",
       "      <td>Pakistan has rejected U.S. criticism of its e...</td>\n",
       "      <td>worldnews</td>\n",
       "      <td>August 23, 2017</td>\n",
       "      <td>KARACHI, Pakistan (Reuters)</td>\n",
       "    </tr>\n",
       "    <tr>\n",
       "      <th>21391</th>\n",
       "      <td>Romanian president opposes plans for judicial ...</td>\n",
       "      <td>Romania s justice minister proposed a signifi...</td>\n",
       "      <td>worldnews</td>\n",
       "      <td>August 23, 2017</td>\n",
       "      <td>BUCHAREST (Reuters)</td>\n",
       "    </tr>\n",
       "    <tr>\n",
       "      <th>21392</th>\n",
       "      <td>Iran, Saudi Arabia to exchange diplomatic visi...</td>\n",
       "      <td>Iran and Saudi Arabia will exchange diplomati...</td>\n",
       "      <td>worldnews</td>\n",
       "      <td>August 23, 2017</td>\n",
       "      <td>BEIRUT (Reuters)</td>\n",
       "    </tr>\n",
       "    <tr>\n",
       "      <th>21393</th>\n",
       "      <td>Danish police identify torso as missing submar...</td>\n",
       "      <td>Police on Wednesday identified a headless fem...</td>\n",
       "      <td>worldnews</td>\n",
       "      <td>August 23, 2017</td>\n",
       "      <td>COPENHAGEN (Reuters)</td>\n",
       "    </tr>\n",
       "    <tr>\n",
       "      <th>21394</th>\n",
       "      <td>Typhoon batters Hong Kong and south China, thr...</td>\n",
       "      <td>Typhoon Hato, a maximum category 10 storm, sl...</td>\n",
       "      <td>worldnews</td>\n",
       "      <td>August 22, 2017</td>\n",
       "      <td>HONG KONG (Reuters)</td>\n",
       "    </tr>\n",
       "    <tr>\n",
       "      <th>21395</th>\n",
       "      <td>Poland to allocate additional $55 bllion on de...</td>\n",
       "      <td>Poland will allocate an additional 200 billio...</td>\n",
       "      <td>worldnews</td>\n",
       "      <td>August 23, 2017</td>\n",
       "      <td>WARSAW (Reuters)</td>\n",
       "    </tr>\n",
       "    <tr>\n",
       "      <th>21396</th>\n",
       "      <td>Pro-Houthi fighters call powerful Yemen ally '...</td>\n",
       "      <td>Fighters loyal to the armed Houthi movement o...</td>\n",
       "      <td>worldnews</td>\n",
       "      <td>August 23, 2017</td>\n",
       "      <td>DUBAI (Reuters)</td>\n",
       "    </tr>\n",
       "    <tr>\n",
       "      <th>21397</th>\n",
       "      <td>Germany's Schulz says he would demand U.S. wit...</td>\n",
       "      <td>The leader of Germany s Social Democrats (SPD...</td>\n",
       "      <td>worldnews</td>\n",
       "      <td>August 23, 2017</td>\n",
       "      <td>BERLIN (Reuters)</td>\n",
       "    </tr>\n",
       "    <tr>\n",
       "      <th>21398</th>\n",
       "      <td>Blunt instrument? What a list of banned articl...</td>\n",
       "      <td>An old review of an academic monograph on agr...</td>\n",
       "      <td>worldnews</td>\n",
       "      <td>August 23, 2017</td>\n",
       "      <td>SHANGHAI (Reuters)</td>\n",
       "    </tr>\n",
       "    <tr>\n",
       "      <th>21399</th>\n",
       "      <td>Saudi police release teenager detained for dan...</td>\n",
       "      <td>A 14-year-old boy who was detained by Saudi p...</td>\n",
       "      <td>worldnews</td>\n",
       "      <td>August 22, 2017</td>\n",
       "      <td>DUBAI (Reuters)</td>\n",
       "    </tr>\n",
       "    <tr>\n",
       "      <th>21400</th>\n",
       "      <td>The People's Princess, Britons work to keep me...</td>\n",
       "      <td>Abdul Daoud spilt most of the cappuccino into...</td>\n",
       "      <td>worldnews</td>\n",
       "      <td>August 23, 2017</td>\n",
       "      <td>LONDON (Reuters)</td>\n",
       "    </tr>\n",
       "    <tr>\n",
       "      <th>21401</th>\n",
       "      <td>Argentina labor unions protest job losses, Mac...</td>\n",
       "      <td>Argentina s main labor unions took to the str...</td>\n",
       "      <td>worldnews</td>\n",
       "      <td>August 22, 2017</td>\n",
       "      <td>BUENOS AIRES (Reuters)</td>\n",
       "    </tr>\n",
       "    <tr>\n",
       "      <th>21402</th>\n",
       "      <td>Exclusive: Trump's Afghan decision may increas...</td>\n",
       "      <td>The U.S. Air Force may intensify its strikes ...</td>\n",
       "      <td>worldnews</td>\n",
       "      <td>August 22, 2017</td>\n",
       "      <td>ON BOARD A U.S. MILITARY AIRCRAFT (Reuters)</td>\n",
       "    </tr>\n",
       "    <tr>\n",
       "      <th>21403</th>\n",
       "      <td>U.S. puts more pressure on Pakistan to help wi...</td>\n",
       "      <td>The United States suggested on Tuesday it cou...</td>\n",
       "      <td>worldnews</td>\n",
       "      <td>August 21, 2017</td>\n",
       "      <td>WASHINGTON (Reuters)</td>\n",
       "    </tr>\n",
       "    <tr>\n",
       "      <th>21404</th>\n",
       "      <td>Exclusive: U.S. to withhold up to $290 million...</td>\n",
       "      <td>The United States has decided to deny Egypt $...</td>\n",
       "      <td>worldnews</td>\n",
       "      <td>August 22, 2017</td>\n",
       "      <td>WASHINGTON (Reuters)</td>\n",
       "    </tr>\n",
       "    <tr>\n",
       "      <th>21405</th>\n",
       "      <td>Trump talks tough on Pakistan's 'terrorist' ha...</td>\n",
       "      <td>Outlining a new strategy for the war in Afgha...</td>\n",
       "      <td>worldnews</td>\n",
       "      <td>August 22, 2017</td>\n",
       "      <td>ISLAMABAD (Reuters)</td>\n",
       "    </tr>\n",
       "    <tr>\n",
       "      <th>21406</th>\n",
       "      <td>U.S., North Korea clash at U.N. forum over nuc...</td>\n",
       "      <td>North Korea and the United States clashed at ...</td>\n",
       "      <td>worldnews</td>\n",
       "      <td>August 22, 2017</td>\n",
       "      <td>GENEVA (Reuters)</td>\n",
       "    </tr>\n",
       "    <tr>\n",
       "      <th>21407</th>\n",
       "      <td>Mata Pires, owner of embattled Brazil builder ...</td>\n",
       "      <td>Cesar Mata Pires, the owner and co-founder of...</td>\n",
       "      <td>worldnews</td>\n",
       "      <td>August 22, 2017</td>\n",
       "      <td>SAO PAULO (Reuters)</td>\n",
       "    </tr>\n",
       "    <tr>\n",
       "      <th>21408</th>\n",
       "      <td>U.S., North Korea clash at U.N. forum over nuc...</td>\n",
       "      <td>North Korea and the United States clashed at ...</td>\n",
       "      <td>worldnews</td>\n",
       "      <td>August 22, 2017</td>\n",
       "      <td>GENEVA (Reuters)</td>\n",
       "    </tr>\n",
       "    <tr>\n",
       "      <th>21409</th>\n",
       "      <td>U.S., North Korea clash at U.N. arms forum on ...</td>\n",
       "      <td>North Korea and the United States accused eac...</td>\n",
       "      <td>worldnews</td>\n",
       "      <td>August 22, 2017</td>\n",
       "      <td>GENEVA (Reuters)</td>\n",
       "    </tr>\n",
       "    <tr>\n",
       "      <th>21410</th>\n",
       "      <td>Headless torso could belong to submarine journ...</td>\n",
       "      <td>Danish police said on Tuesday the size of a h...</td>\n",
       "      <td>worldnews</td>\n",
       "      <td>August 22, 2017</td>\n",
       "      <td>COPENHAGEN (Reuters)</td>\n",
       "    </tr>\n",
       "    <tr>\n",
       "      <th>21411</th>\n",
       "      <td>North Korea shipments to Syria chemical arms a...</td>\n",
       "      <td>Two North Korean shipments to a Syrian govern...</td>\n",
       "      <td>worldnews</td>\n",
       "      <td>August 21, 2017</td>\n",
       "      <td>UNITED NATIONS (Reuters)</td>\n",
       "    </tr>\n",
       "    <tr>\n",
       "      <th>21412</th>\n",
       "      <td>'Fully committed' NATO backs new U.S. approach...</td>\n",
       "      <td>NATO allies on Tuesday welcomed President Don...</td>\n",
       "      <td>worldnews</td>\n",
       "      <td>August 22, 2017</td>\n",
       "      <td>BRUSSELS (Reuters)</td>\n",
       "    </tr>\n",
       "    <tr>\n",
       "      <th>21413</th>\n",
       "      <td>LexisNexis withdrew two products from Chinese ...</td>\n",
       "      <td>LexisNexis, a provider of legal, regulatory a...</td>\n",
       "      <td>worldnews</td>\n",
       "      <td>August 22, 2017</td>\n",
       "      <td>LONDON (Reuters)</td>\n",
       "    </tr>\n",
       "    <tr>\n",
       "      <th>21414</th>\n",
       "      <td>Minsk cultural hub becomes haven from authorities</td>\n",
       "      <td>In the shadow of disused Soviet-era factories...</td>\n",
       "      <td>worldnews</td>\n",
       "      <td>August 22, 2017</td>\n",
       "      <td>MINSK (Reuters)</td>\n",
       "    </tr>\n",
       "    <tr>\n",
       "      <th>21415</th>\n",
       "      <td>Vatican upbeat on possibility of Pope Francis ...</td>\n",
       "      <td>Vatican Secretary of State Cardinal Pietro Pa...</td>\n",
       "      <td>worldnews</td>\n",
       "      <td>August 22, 2017</td>\n",
       "      <td>MOSCOW (Reuters)</td>\n",
       "    </tr>\n",
       "    <tr>\n",
       "      <th>21416</th>\n",
       "      <td>Indonesia to buy $1.14 billion worth of Russia...</td>\n",
       "      <td>Indonesia will buy 11 Sukhoi fighter jets wor...</td>\n",
       "      <td>worldnews</td>\n",
       "      <td>August 22, 2017</td>\n",
       "      <td>JAKARTA (Reuters)</td>\n",
       "    </tr>\n",
       "  </tbody>\n",
       "</table>\n",
       "</div>"
      ],
      "text/plain": [
       "                                                   title  ...                                    publisher\n",
       "21387  Former Libyan prime minister freed after abduc...  ...                            TRIPOLI (Reuters)\n",
       "21388  Britain outlines plans to break free of Europe...  ...                             LONDON (Reuters)\n",
       "21389  Trump must be respected as U.S. president, say...  ...                             BERLIN (Reuters)\n",
       "21390  Pakistan rejects role of 'scapegoat for U.S. f...  ...                  KARACHI, Pakistan (Reuters)\n",
       "21391  Romanian president opposes plans for judicial ...  ...                          BUCHAREST (Reuters)\n",
       "21392  Iran, Saudi Arabia to exchange diplomatic visi...  ...                             BEIRUT (Reuters)\n",
       "21393  Danish police identify torso as missing submar...  ...                         COPENHAGEN (Reuters)\n",
       "21394  Typhoon batters Hong Kong and south China, thr...  ...                          HONG KONG (Reuters)\n",
       "21395  Poland to allocate additional $55 bllion on de...  ...                             WARSAW (Reuters)\n",
       "21396  Pro-Houthi fighters call powerful Yemen ally '...  ...                              DUBAI (Reuters)\n",
       "21397  Germany's Schulz says he would demand U.S. wit...  ...                             BERLIN (Reuters)\n",
       "21398  Blunt instrument? What a list of banned articl...  ...                           SHANGHAI (Reuters)\n",
       "21399  Saudi police release teenager detained for dan...  ...                              DUBAI (Reuters)\n",
       "21400  The People's Princess, Britons work to keep me...  ...                             LONDON (Reuters)\n",
       "21401  Argentina labor unions protest job losses, Mac...  ...                       BUENOS AIRES (Reuters)\n",
       "21402  Exclusive: Trump's Afghan decision may increas...  ...  ON BOARD A U.S. MILITARY AIRCRAFT (Reuters)\n",
       "21403  U.S. puts more pressure on Pakistan to help wi...  ...                         WASHINGTON (Reuters)\n",
       "21404  Exclusive: U.S. to withhold up to $290 million...  ...                         WASHINGTON (Reuters)\n",
       "21405  Trump talks tough on Pakistan's 'terrorist' ha...  ...                          ISLAMABAD (Reuters)\n",
       "21406  U.S., North Korea clash at U.N. forum over nuc...  ...                             GENEVA (Reuters)\n",
       "21407  Mata Pires, owner of embattled Brazil builder ...  ...                          SAO PAULO (Reuters)\n",
       "21408  U.S., North Korea clash at U.N. forum over nuc...  ...                             GENEVA (Reuters)\n",
       "21409  U.S., North Korea clash at U.N. arms forum on ...  ...                             GENEVA (Reuters)\n",
       "21410  Headless torso could belong to submarine journ...  ...                         COPENHAGEN (Reuters)\n",
       "21411  North Korea shipments to Syria chemical arms a...  ...                     UNITED NATIONS (Reuters)\n",
       "21412  'Fully committed' NATO backs new U.S. approach...  ...                           BRUSSELS (Reuters)\n",
       "21413  LexisNexis withdrew two products from Chinese ...  ...                             LONDON (Reuters)\n",
       "21414  Minsk cultural hub becomes haven from authorities  ...                              MINSK (Reuters)\n",
       "21415  Vatican upbeat on possibility of Pope Francis ...  ...                             MOSCOW (Reuters)\n",
       "21416  Indonesia to buy $1.14 billion worth of Russia...  ...                            JAKARTA (Reuters)\n",
       "\n",
       "[30 rows x 5 columns]"
      ]
     },
     "execution_count": 18,
     "metadata": {
      "tags": []
     },
     "output_type": "execute_result"
    }
   ],
   "source": [
    "real.tail(30)"
   ]
  },
  {
   "cell_type": "code",
   "execution_count": 0,
   "metadata": {
    "colab": {
     "base_uri": "https://localhost:8080/",
     "height": 33
    },
    "colab_type": "code",
    "id": "qBtPMKtP0n_b",
    "outputId": "20bde1cb-65f2-4edc-be7a-da9dd68302d9"
   },
   "outputs": [
    {
     "data": {
      "text/plain": [
       "[8970]"
      ]
     },
     "execution_count": 19,
     "metadata": {
      "tags": []
     },
     "output_type": "execute_result"
    }
   ],
   "source": [
    "#checking for rows with empty text like row:8970\n",
    "[index for index,text in enumerate(real.text.values) if str(text).strip() == '']\n",
    "#seems only one :)"
   ]
  },
  {
   "cell_type": "code",
   "execution_count": 0,
   "metadata": {
    "colab": {},
    "colab_type": "code",
    "id": "Hg2R6Jiz0vCS"
   },
   "outputs": [],
   "source": [
    "#dropping this record\n",
    "real = real.drop(8970, axis=0)"
   ]
  },
  {
   "cell_type": "code",
   "execution_count": 0,
   "metadata": {
    "colab": {
     "base_uri": "https://localhost:8080/",
     "height": 207
    },
    "colab_type": "code",
    "id": "pohZrte70yML",
    "outputId": "6c50b3d1-f366-4b4e-b540-c3d0330025f5"
   },
   "outputs": [
    {
     "name": "stdout",
     "output_type": "stream",
     "text": [
      "No of empty rows: 630\n"
     ]
    },
    {
     "data": {
      "text/html": [
       "<div>\n",
       "<style scoped>\n",
       "    .dataframe tbody tr th:only-of-type {\n",
       "        vertical-align: middle;\n",
       "    }\n",
       "\n",
       "    .dataframe tbody tr th {\n",
       "        vertical-align: top;\n",
       "    }\n",
       "\n",
       "    .dataframe thead th {\n",
       "        text-align: right;\n",
       "    }\n",
       "</style>\n",
       "<table border=\"1\" class=\"dataframe\">\n",
       "  <thead>\n",
       "    <tr style=\"text-align: right;\">\n",
       "      <th></th>\n",
       "      <th>title</th>\n",
       "      <th>text</th>\n",
       "      <th>subject</th>\n",
       "      <th>date</th>\n",
       "    </tr>\n",
       "  </thead>\n",
       "  <tbody>\n",
       "    <tr>\n",
       "      <th>21816</th>\n",
       "      <td>BALTIMORE BURNS: MARYLAND GOVERNOR BRINGS IN N...</td>\n",
       "      <td></td>\n",
       "      <td>left-news</td>\n",
       "      <td>Apr 27, 2015</td>\n",
       "    </tr>\n",
       "    <tr>\n",
       "      <th>21826</th>\n",
       "      <td>FULL VIDEO: THE BLOCKBUSTER INVESTIGATION INTO...</td>\n",
       "      <td></td>\n",
       "      <td>left-news</td>\n",
       "      <td>Apr 25, 2015</td>\n",
       "    </tr>\n",
       "    <tr>\n",
       "      <th>21827</th>\n",
       "      <td>(VIDEO) HILLARY CLINTON: RELIGIOUS BELIEFS MUS...</td>\n",
       "      <td></td>\n",
       "      <td>left-news</td>\n",
       "      <td>Apr 25, 2015</td>\n",
       "    </tr>\n",
       "    <tr>\n",
       "      <th>21857</th>\n",
       "      <td>(VIDEO)ICE PROTECTING OBAMA: WON’T RELEASE NAM...</td>\n",
       "      <td></td>\n",
       "      <td>left-news</td>\n",
       "      <td>Apr 14, 2015</td>\n",
       "    </tr>\n",
       "    <tr>\n",
       "      <th>21873</th>\n",
       "      <td>(VIDEO) HYSTERICAL SNL TAKE ON HILLARY’S ANNOU...</td>\n",
       "      <td></td>\n",
       "      <td>left-news</td>\n",
       "      <td>Apr 12, 2015</td>\n",
       "    </tr>\n",
       "  </tbody>\n",
       "</table>\n",
       "</div>"
      ],
      "text/plain": [
       "                                                   title  ...          date\n",
       "21816  BALTIMORE BURNS: MARYLAND GOVERNOR BRINGS IN N...  ...  Apr 27, 2015\n",
       "21826  FULL VIDEO: THE BLOCKBUSTER INVESTIGATION INTO...  ...  Apr 25, 2015\n",
       "21827  (VIDEO) HILLARY CLINTON: RELIGIOUS BELIEFS MUS...  ...  Apr 25, 2015\n",
       "21857  (VIDEO)ICE PROTECTING OBAMA: WON’T RELEASE NAM...  ...  Apr 14, 2015\n",
       "21873  (VIDEO) HYSTERICAL SNL TAKE ON HILLARY’S ANNOU...  ...  Apr 12, 2015\n",
       "\n",
       "[5 rows x 4 columns]"
      ]
     },
     "execution_count": 21,
     "metadata": {
      "tags": []
     },
     "output_type": "execute_result"
    }
   ],
   "source": [
    "# checking for the same in fake news\n",
    "empty_fake_index = [index for index,text in enumerate(fake.text.values) if str(text).strip() == '']\n",
    "print(f\"No of empty rows: {len(empty_fake_index)}\")\n",
    "fake.iloc[empty_fake_index].tail()"
   ]
  },
  {
   "cell_type": "code",
   "execution_count": 0,
   "metadata": {
    "colab": {
     "base_uri": "https://localhost:8080/",
     "height": 66
    },
    "colab_type": "code",
    "id": "h2ffEgYS1Evb",
    "outputId": "f6a951a6-153e-45b2-ce77-2e4b257bd913"
   },
   "outputs": [
    {
     "name": "stdout",
     "output_type": "stream",
     "text": [
      "Total Records:\t21416\n",
      "politicsNews:\t11271\n",
      "worldnews:\t10145\n"
     ]
    }
   ],
   "source": [
    "#Getting Total Rows\n",
    "print(f\"Total Records:\\t{real.shape[0]}\")\n",
    "\n",
    "#Counting by Subjects \n",
    "for key,count in real.subject.value_counts().iteritems():\n",
    "  print(f\"{key}:\\t{count}\")"
   ]
  },
  {
   "cell_type": "code",
   "execution_count": 0,
   "metadata": {
    "colab": {
     "base_uri": "https://localhost:8080/",
     "height": 298
    },
    "colab_type": "code",
    "id": "ssnYEXAh1IVH",
    "outputId": "7e18bae4-145f-45ed-bc7c-fd225134b683"
   },
   "outputs": [
    {
     "data": {
      "image/png": "[encoded data removed]",
      "text/plain": [
       "<Figure size 432x288 with 1 Axes>"
      ]
     },
     "metadata": {
      "needs_background": "light",
      "tags": []
     },
     "output_type": "display_data"
    }
   ],
   "source": [
    "plt.title('Subject Values Count')\n",
    "sns.countplot(x=\"subject\", data=real)\n",
    "plt.show()"
   ]
  },
  {
   "cell_type": "code",
   "execution_count": 0,
   "metadata": {
    "colab": {
     "base_uri": "https://localhost:8080/",
     "height": 253
    },
    "colab_type": "code",
    "id": "aELPZKKA1LZ7",
    "outputId": "646301ba-16b0-4152-bc0b-fc10cc3906ba"
   },
   "outputs": [
    {
     "data": {
      "image/png": "[encoded data removed]",
      "text/plain": [
       "<Figure size 576x432 with 1 Axes>"
      ]
     },
     "metadata": {
      "needs_background": "light",
      "tags": []
     },
     "output_type": "display_data"
    }
   ],
   "source": [
    "#Word Cloud\n",
    "\n",
    "import matplotlib.pylab as plt\n",
    "allwords = ' '.join([rl for rl in real['text']])\n",
    "wordcloud = WordCloud(width=600, height=300, random_state=21, max_font_size=119).generate(allwords)\n",
    "plt.figure(figsize=(8,6))\n",
    "plt.imshow(wordcloud)\n",
    "plt.axis('off')\n",
    "plt.show()"
   ]
  },
  {
   "cell_type": "markdown",
   "metadata": {
    "colab_type": "text",
    "id": "1UZaitwS3Ojt"
   },
   "source": [
    "# Processing Text\n"
   ]
  },
  {
   "cell_type": "code",
   "execution_count": 0,
   "metadata": {
    "colab": {},
    "colab_type": "code",
    "id": "7NiXvAPs3QmF"
   },
   "outputs": [],
   "source": [
    "# Adding class Information\n",
    "real[\"class\"] = 1\n",
    "fake[\"class\"] = 0"
   ]
  },
  {
   "cell_type": "code",
   "execution_count": 0,
   "metadata": {
    "colab": {},
    "colab_type": "code",
    "id": "Mqd9UEJe3S2z"
   },
   "outputs": [],
   "source": [
    "#Combining Title and Text\n",
    "real[\"text\"] = real[\"title\"] + \" \" + real[\"text\"]\n",
    "fake[\"text\"] = fake[\"title\"] + \" \" + fake[\"text\"]"
   ]
  },
  {
   "cell_type": "code",
   "execution_count": 0,
   "metadata": {
    "colab": {},
    "colab_type": "code",
    "id": "2PuK1cTh3Um9"
   },
   "outputs": [],
   "source": [
    "# Subject is diffrent for real and fake thus dropping it\n",
    "# Aldo dropping Date, title and Publication Info of real\n",
    "real = real.drop([\"subject\", \"date\",\"title\",  \"publisher\"], axis=1)\n",
    "fake = fake.drop([\"subject\", \"date\", \"title\"], axis=1)"
   ]
  },
  {
   "cell_type": "code",
   "execution_count": 0,
   "metadata": {
    "colab": {},
    "colab_type": "code",
    "id": "IMNWLLcP3Xpt"
   },
   "outputs": [],
   "source": [
    "#Combining both into new dataframe\n",
    "data = real.append(fake, ignore_index=True)\n",
    "del real, fake"
   ]
  },
  {
   "cell_type": "code",
   "execution_count": 0,
   "metadata": {
    "colab": {
     "base_uri": "https://localhost:8080/",
     "height": 191
    },
    "colab_type": "code",
    "id": "yAx-28ZVZ2Zk",
    "outputId": "07e6364e-0ad6-449a-aabd-4256b763f9a9"
   },
   "outputs": [
    {
     "data": {
      "text/html": [
       "<div>\n",
       "<style scoped>\n",
       "    .dataframe tbody tr th:only-of-type {\n",
       "        vertical-align: middle;\n",
       "    }\n",
       "\n",
       "    .dataframe tbody tr th {\n",
       "        vertical-align: top;\n",
       "    }\n",
       "\n",
       "    .dataframe thead th {\n",
       "        text-align: right;\n",
       "    }\n",
       "</style>\n",
       "<table border=\"1\" class=\"dataframe\">\n",
       "  <thead>\n",
       "    <tr style=\"text-align: right;\">\n",
       "      <th></th>\n",
       "      <th>text</th>\n",
       "      <th>class</th>\n",
       "    </tr>\n",
       "  </thead>\n",
       "  <tbody>\n",
       "    <tr>\n",
       "      <th>0</th>\n",
       "      <td>As U.S. budget fight looms, Republicans flip t...</td>\n",
       "      <td>1</td>\n",
       "    </tr>\n",
       "    <tr>\n",
       "      <th>1</th>\n",
       "      <td>U.S. military to accept transgender recruits o...</td>\n",
       "      <td>1</td>\n",
       "    </tr>\n",
       "    <tr>\n",
       "      <th>2</th>\n",
       "      <td>Senior U.S. Republican senator: 'Let Mr. Muell...</td>\n",
       "      <td>1</td>\n",
       "    </tr>\n",
       "    <tr>\n",
       "      <th>3</th>\n",
       "      <td>FBI Russia probe helped by Australian diplomat...</td>\n",
       "      <td>1</td>\n",
       "    </tr>\n",
       "    <tr>\n",
       "      <th>4</th>\n",
       "      <td>Trump wants Postal Service to charge 'much mor...</td>\n",
       "      <td>1</td>\n",
       "    </tr>\n",
       "  </tbody>\n",
       "</table>\n",
       "</div>"
      ],
      "text/plain": [
       "                                                text  class\n",
       "0  As U.S. budget fight looms, Republicans flip t...      1\n",
       "1  U.S. military to accept transgender recruits o...      1\n",
       "2  Senior U.S. Republican senator: 'Let Mr. Muell...      1\n",
       "3  FBI Russia probe helped by Australian diplomat...      1\n",
       "4  Trump wants Postal Service to charge 'much mor...      1"
      ]
     },
     "execution_count": 29,
     "metadata": {
      "tags": []
     },
     "output_type": "execute_result"
    }
   ],
   "source": [
    "data.head()"
   ]
  },
  {
   "cell_type": "code",
   "execution_count": 0,
   "metadata": {
    "colab": {},
    "colab_type": "code",
    "id": "wuOhktlLaeeF"
   },
   "outputs": [],
   "source": [
    "def rumorLabel(value):\n",
    "  if value == 1:\n",
    "    return 'No Rumor'\n",
    "  else:\n",
    "    return 'Rumor'"
   ]
  },
  {
   "cell_type": "code",
   "execution_count": 0,
   "metadata": {
    "colab": {
     "base_uri": "https://localhost:8080/",
     "height": 391
    },
    "colab_type": "code",
    "id": "77R0X3JWas2E",
    "outputId": "2b23110d-63a3-4176-efc5-d615b20dc2cf"
   },
   "outputs": [
    {
     "data": {
      "text/html": [
       "<div>\n",
       "<style scoped>\n",
       "    .dataframe tbody tr th:only-of-type {\n",
       "        vertical-align: middle;\n",
       "    }\n",
       "\n",
       "    .dataframe tbody tr th {\n",
       "        vertical-align: top;\n",
       "    }\n",
       "\n",
       "    .dataframe thead th {\n",
       "        text-align: right;\n",
       "    }\n",
       "</style>\n",
       "<table border=\"1\" class=\"dataframe\">\n",
       "  <thead>\n",
       "    <tr style=\"text-align: right;\">\n",
       "      <th></th>\n",
       "      <th>text</th>\n",
       "      <th>class</th>\n",
       "      <th>ClassLabel</th>\n",
       "    </tr>\n",
       "  </thead>\n",
       "  <tbody>\n",
       "    <tr>\n",
       "      <th>0</th>\n",
       "      <td>As U.S. budget fight looms, Republicans flip t...</td>\n",
       "      <td>1</td>\n",
       "      <td>No Rumor</td>\n",
       "    </tr>\n",
       "    <tr>\n",
       "      <th>1</th>\n",
       "      <td>U.S. military to accept transgender recruits o...</td>\n",
       "      <td>1</td>\n",
       "      <td>No Rumor</td>\n",
       "    </tr>\n",
       "    <tr>\n",
       "      <th>2</th>\n",
       "      <td>Senior U.S. Republican senator: 'Let Mr. Muell...</td>\n",
       "      <td>1</td>\n",
       "      <td>No Rumor</td>\n",
       "    </tr>\n",
       "    <tr>\n",
       "      <th>3</th>\n",
       "      <td>FBI Russia probe helped by Australian diplomat...</td>\n",
       "      <td>1</td>\n",
       "      <td>No Rumor</td>\n",
       "    </tr>\n",
       "    <tr>\n",
       "      <th>4</th>\n",
       "      <td>Trump wants Postal Service to charge 'much mor...</td>\n",
       "      <td>1</td>\n",
       "      <td>No Rumor</td>\n",
       "    </tr>\n",
       "    <tr>\n",
       "      <th>...</th>\n",
       "      <td>...</td>\n",
       "      <td>...</td>\n",
       "      <td>...</td>\n",
       "    </tr>\n",
       "    <tr>\n",
       "      <th>44892</th>\n",
       "      <td>McPain: John McCain Furious That Iran Treated ...</td>\n",
       "      <td>0</td>\n",
       "      <td>Rumor</td>\n",
       "    </tr>\n",
       "    <tr>\n",
       "      <th>44893</th>\n",
       "      <td>JUSTICE? Yahoo Settles E-mail Privacy Class-ac...</td>\n",
       "      <td>0</td>\n",
       "      <td>Rumor</td>\n",
       "    </tr>\n",
       "    <tr>\n",
       "      <th>44894</th>\n",
       "      <td>Sunnistan: US and Allied ‘Safe Zone’ Plan to T...</td>\n",
       "      <td>0</td>\n",
       "      <td>Rumor</td>\n",
       "    </tr>\n",
       "    <tr>\n",
       "      <th>44895</th>\n",
       "      <td>How to Blow $700 Million: Al Jazeera America F...</td>\n",
       "      <td>0</td>\n",
       "      <td>Rumor</td>\n",
       "    </tr>\n",
       "    <tr>\n",
       "      <th>44896</th>\n",
       "      <td>10 U.S. Navy Sailors Held by Iranian Military ...</td>\n",
       "      <td>0</td>\n",
       "      <td>Rumor</td>\n",
       "    </tr>\n",
       "  </tbody>\n",
       "</table>\n",
       "<p>44897 rows × 3 columns</p>\n",
       "</div>"
      ],
      "text/plain": [
       "                                                    text  class ClassLabel\n",
       "0      As U.S. budget fight looms, Republicans flip t...      1   No Rumor\n",
       "1      U.S. military to accept transgender recruits o...      1   No Rumor\n",
       "2      Senior U.S. Republican senator: 'Let Mr. Muell...      1   No Rumor\n",
       "3      FBI Russia probe helped by Australian diplomat...      1   No Rumor\n",
       "4      Trump wants Postal Service to charge 'much mor...      1   No Rumor\n",
       "...                                                  ...    ...        ...\n",
       "44892  McPain: John McCain Furious That Iran Treated ...      0      Rumor\n",
       "44893  JUSTICE? Yahoo Settles E-mail Privacy Class-ac...      0      Rumor\n",
       "44894  Sunnistan: US and Allied ‘Safe Zone’ Plan to T...      0      Rumor\n",
       "44895  How to Blow $700 Million: Al Jazeera America F...      0      Rumor\n",
       "44896  10 U.S. Navy Sailors Held by Iranian Military ...      0      Rumor\n",
       "\n",
       "[44897 rows x 3 columns]"
      ]
     },
     "execution_count": 31,
     "metadata": {
      "tags": []
     },
     "output_type": "execute_result"
    }
   ],
   "source": [
    "data['ClassLabel'] = data['class'].apply(rumorLabel)\n",
    "data"
   ]
  },
  {
   "cell_type": "code",
   "execution_count": 0,
   "metadata": {
    "colab": {
     "base_uri": "https://localhost:8080/",
     "height": 66
    },
    "colab_type": "code",
    "id": "PIe3KDygbqmR",
    "outputId": "f9e70aa2-1b8a-4c1a-85cd-78c294281c2e"
   },
   "outputs": [
    {
     "data": {
      "text/plain": [
       "Rumor       23481\n",
       "No Rumor    21416\n",
       "Name: ClassLabel, dtype: int64"
      ]
     },
     "execution_count": 32,
     "metadata": {
      "tags": []
     },
     "output_type": "execute_result"
    }
   ],
   "source": [
    "data['ClassLabel'].value_counts()"
   ]
  },
  {
   "cell_type": "code",
   "execution_count": 0,
   "metadata": {
    "colab": {
     "base_uri": "https://localhost:8080/",
     "height": 298
    },
    "colab_type": "code",
    "id": "v_zXzRPdZ7E8",
    "outputId": "fdaca9d1-19a8-4455-ec23-ccf83ca4bf0f"
   },
   "outputs": [
    {
     "data": {
      "image/png": "[encoded data removed]",
      "text/plain": [
       "<Figure size 432x288 with 1 Axes>"
      ]
     },
     "metadata": {
      "needs_background": "light",
      "tags": []
     },
     "output_type": "display_data"
    }
   ],
   "source": [
    "\n",
    "sns.countplot(x='ClassLabel', data=data)\n",
    "plt.title('No Rumor vs Rumor count')\n",
    "plt.show()"
   ]
  },
  {
   "cell_type": "code",
   "execution_count": 0,
   "metadata": {
    "colab": {
     "base_uri": "https://localhost:8080/",
     "height": 247
    },
    "colab_type": "code",
    "id": "UDfRkWLNNPTd",
    "outputId": "dcf16422-20a2-4986-8cf3-106bfd859a61"
   },
   "outputs": [
    {
     "data": {
      "image/png": "[encoded data removed]",
      "text/plain": [
       "<Figure size 504x288 with 1 Axes>"
      ]
     },
     "metadata": {
      "tags": []
     },
     "output_type": "display_data"
    }
   ],
   "source": [
    "plot = data['ClassLabel'].value_counts().plot.pie(subplots=True, figsize=(7, 4),autopct='%1.1f%%')"
   ]
  },
  {
   "cell_type": "code",
   "execution_count": 0,
   "metadata": {
    "colab": {
     "base_uri": "https://localhost:8080/",
     "height": 391
    },
    "colab_type": "code",
    "id": "oTNvsbzpbwne",
    "outputId": "a320c7e3-4e94-4c14-f45b-f9ca2e5bf67b"
   },
   "outputs": [
    {
     "data": {
      "text/html": [
       "<div>\n",
       "<style scoped>\n",
       "    .dataframe tbody tr th:only-of-type {\n",
       "        vertical-align: middle;\n",
       "    }\n",
       "\n",
       "    .dataframe tbody tr th {\n",
       "        vertical-align: top;\n",
       "    }\n",
       "\n",
       "    .dataframe thead th {\n",
       "        text-align: right;\n",
       "    }\n",
       "</style>\n",
       "<table border=\"1\" class=\"dataframe\">\n",
       "  <thead>\n",
       "    <tr style=\"text-align: right;\">\n",
       "      <th></th>\n",
       "      <th>text</th>\n",
       "      <th>class</th>\n",
       "    </tr>\n",
       "  </thead>\n",
       "  <tbody>\n",
       "    <tr>\n",
       "      <th>0</th>\n",
       "      <td>As U.S. budget fight looms, Republicans flip t...</td>\n",
       "      <td>1</td>\n",
       "    </tr>\n",
       "    <tr>\n",
       "      <th>1</th>\n",
       "      <td>U.S. military to accept transgender recruits o...</td>\n",
       "      <td>1</td>\n",
       "    </tr>\n",
       "    <tr>\n",
       "      <th>2</th>\n",
       "      <td>Senior U.S. Republican senator: 'Let Mr. Muell...</td>\n",
       "      <td>1</td>\n",
       "    </tr>\n",
       "    <tr>\n",
       "      <th>3</th>\n",
       "      <td>FBI Russia probe helped by Australian diplomat...</td>\n",
       "      <td>1</td>\n",
       "    </tr>\n",
       "    <tr>\n",
       "      <th>4</th>\n",
       "      <td>Trump wants Postal Service to charge 'much mor...</td>\n",
       "      <td>1</td>\n",
       "    </tr>\n",
       "    <tr>\n",
       "      <th>...</th>\n",
       "      <td>...</td>\n",
       "      <td>...</td>\n",
       "    </tr>\n",
       "    <tr>\n",
       "      <th>44892</th>\n",
       "      <td>McPain: John McCain Furious That Iran Treated ...</td>\n",
       "      <td>0</td>\n",
       "    </tr>\n",
       "    <tr>\n",
       "      <th>44893</th>\n",
       "      <td>JUSTICE? Yahoo Settles E-mail Privacy Class-ac...</td>\n",
       "      <td>0</td>\n",
       "    </tr>\n",
       "    <tr>\n",
       "      <th>44894</th>\n",
       "      <td>Sunnistan: US and Allied ‘Safe Zone’ Plan to T...</td>\n",
       "      <td>0</td>\n",
       "    </tr>\n",
       "    <tr>\n",
       "      <th>44895</th>\n",
       "      <td>How to Blow $700 Million: Al Jazeera America F...</td>\n",
       "      <td>0</td>\n",
       "    </tr>\n",
       "    <tr>\n",
       "      <th>44896</th>\n",
       "      <td>10 U.S. Navy Sailors Held by Iranian Military ...</td>\n",
       "      <td>0</td>\n",
       "    </tr>\n",
       "  </tbody>\n",
       "</table>\n",
       "<p>44897 rows × 2 columns</p>\n",
       "</div>"
      ],
      "text/plain": [
       "                                                    text  class\n",
       "0      As U.S. budget fight looms, Republicans flip t...      1\n",
       "1      U.S. military to accept transgender recruits o...      1\n",
       "2      Senior U.S. Republican senator: 'Let Mr. Muell...      1\n",
       "3      FBI Russia probe helped by Australian diplomat...      1\n",
       "4      Trump wants Postal Service to charge 'much mor...      1\n",
       "...                                                  ...    ...\n",
       "44892  McPain: John McCain Furious That Iran Treated ...      0\n",
       "44893  JUSTICE? Yahoo Settles E-mail Privacy Class-ac...      0\n",
       "44894  Sunnistan: US and Allied ‘Safe Zone’ Plan to T...      0\n",
       "44895  How to Blow $700 Million: Al Jazeera America F...      0\n",
       "44896  10 U.S. Navy Sailors Held by Iranian Military ...      0\n",
       "\n",
       "[44897 rows x 2 columns]"
      ]
     },
     "execution_count": 35,
     "metadata": {
      "tags": []
     },
     "output_type": "execute_result"
    }
   ],
   "source": [
    "data = data.drop(columns=['ClassLabel'])\n",
    "data"
   ]
  },
  {
   "cell_type": "code",
   "execution_count": 0,
   "metadata": {
    "colab": {
     "base_uri": "https://localhost:8080/",
     "height": 82
    },
    "colab_type": "code",
    "id": "pAJT2xWW4VCg",
    "outputId": "165f3f14-72cc-4c37-b02b-e050beedb1e4"
   },
   "outputs": [
    {
     "name": "stdout",
     "output_type": "stream",
     "text": [
      "[nltk_data] Downloading package stopwords to /root/nltk_data...\n",
      "[nltk_data]   Unzipping corpora/stopwords.zip.\n",
      "[nltk_data] Downloading package punkt to /root/nltk_data...\n",
      "[nltk_data]   Unzipping tokenizers/punkt.zip.\n"
     ]
    }
   ],
   "source": [
    "nltk.download('stopwords')\n",
    "nltk.download('punkt')\n",
    "y = data[\"class\"].values\n",
    "#Converting X to format acceptable by gensim, removing annd punctuation stopwords in the process\n",
    "X = []\n",
    "stop_words = set(nltk.corpus.stopwords.words(\"english\"))\n",
    "tokenizer = nltk.tokenize.RegexpTokenizer(r'\\w+')\n",
    "for par in data[\"text\"].values:\n",
    "    tmp = []\n",
    "    sentences = nltk.sent_tokenize(par)\n",
    "    for sent in sentences:\n",
    "        sent = sent.lower()\n",
    "        tokens = tokenizer.tokenize(sent)\n",
    "        filtered_words = [w.strip() for w in tokens if w not in stop_words and len(w) > 1]\n",
    "        tmp.extend(filtered_words)\n",
    "    X.append(tmp)\n",
    "\n",
    "del data"
   ]
  },
  {
   "cell_type": "code",
   "execution_count": 0,
   "metadata": {
    "colab": {
     "base_uri": "https://localhost:8080/",
     "height": 53
    },
    "colab_type": "code",
    "id": "j2OFIml4Aeu5",
    "outputId": "d6e01566-671b-4e1d-861e-088fdd7c9031"
   },
   "outputs": [
    {
     "name": "stdout",
     "output_type": "stream",
     "text": [
      "{'all', 'about', 'myself', \"wasn't\", 'own', 'further', 'didn', 'a', 'shan', \"you're\", 'an', \"wouldn't\", 'them', 'isn', \"shouldn't\", \"mustn't\", 'until', 'than', 'are', 'just', 'during', 'll', 'haven', 'once', 'other', 'were', 'but', \"couldn't\", 'whom', 'here', 'can', 'because', 'with', \"should've\", 'more', 's', 'these', 'won', 'having', 'not', \"hadn't\", 'being', 'o', 'y', 'where', 'those', 'no', 'off', 're', 'again', 'is', 'am', 'then', 'our', 'you', 'do', 'me', 'yourself', 'needn', 'be', 'only', 'very', 'shouldn', 'its', 'how', \"weren't\", 'or', 'couldn', 'most', \"hasn't\", \"mightn't\", 'before', 'there', 'of', 'up', 'if', 'by', \"she's\", 'to', 'ours', 'their', \"it's\", 'few', 'don', 'while', 'will', 'hers', 'yourselves', 'that', 'did', 'theirs', 'they', 'the', 'i', \"haven't\", 'ma', 'over', 'has', 'ain', 'been', 'mustn', 'does', 'his', 'herself', 'what', 'too', 'him', \"didn't\", 'her', 'out', 'now', 'doing', 'for', 'hasn', 'mightn', 'through', 'we', 'into', 'on', 'she', 'have', 'themselves', 'some', \"needn't\", 'this', 'each', 'between', 'any', 've', 'under', 'and', 'hadn', 'your', \"don't\", \"you've\", \"you'd\", 'he', 'such', 'down', 'himself', 'why', 'when', 'should', 'weren', 'in', 'who', 'both', \"isn't\", 'nor', 'had', 'aren', \"shan't\", \"you'll\", 'my', \"doesn't\", 'against', \"aren't\", 'which', 'wouldn', 'from', 'ourselves', 'below', 'd', 'doesn', 'after', 'so', 't', \"that'll\", 'm', 'it', 'above', 'yours', 'same', \"won't\", 'as', 'wasn', 'at', 'was', 'itself'}\n"
     ]
    }
   ],
   "source": [
    "print(stop_words)"
   ]
  },
  {
   "cell_type": "markdown",
   "metadata": {
    "colab_type": "text",
    "id": "UCFvK00t3sM8"
   },
   "source": [
    "# Word2Vec"
   ]
  },
  {
   "cell_type": "code",
   "execution_count": 0,
   "metadata": {
    "colab": {},
    "colab_type": "code",
    "id": "uXdzTkLF3o8s"
   },
   "outputs": [],
   "source": [
    "import gensim"
   ]
  },
  {
   "cell_type": "code",
   "execution_count": 0,
   "metadata": {
    "colab": {},
    "colab_type": "code",
    "id": "4vpIjhHv3y6I"
   },
   "outputs": [],
   "source": [
    "#Dimension of vectors we are generating\n",
    "EMBEDDING_DIM = 100"
   ]
  },
  {
   "cell_type": "code",
   "execution_count": 0,
   "metadata": {
    "colab": {},
    "colab_type": "code",
    "id": "vPbWdDt638P5"
   },
   "outputs": [],
   "source": [
    "#Creating Word Vectors by Word2Vec Method (takes time...)\n",
    "w2v_model = gensim.models.Word2Vec(sentences=X, size=EMBEDDING_DIM, window=5, min_count=1)"
   ]
  },
  {
   "cell_type": "code",
   "execution_count": 0,
   "metadata": {
    "colab": {
     "base_uri": "https://localhost:8080/",
     "height": 33
    },
    "colab_type": "code",
    "id": "1Yz4tebE3zqV",
    "outputId": "416501b0-146f-43a0-e1bd-24e40fb13098"
   },
   "outputs": [
    {
     "data": {
      "text/plain": [
       "122248"
      ]
     },
     "execution_count": 41,
     "metadata": {
      "tags": []
     },
     "output_type": "execute_result"
    }
   ],
   "source": [
    "#vocab size\n",
    "len(w2v_model.wv.vocab)\n",
    "\n",
    "#We have now represented each of 122248 words by a 100dim vector."
   ]
  },
  {
   "cell_type": "code",
   "execution_count": 0,
   "metadata": {
    "colab": {},
    "colab_type": "code",
    "id": "qlf9IophVx4J"
   },
   "outputs": [],
   "source": [
    "from sklearn.manifold import TSNE"
   ]
  },
  {
   "cell_type": "code",
   "execution_count": 0,
   "metadata": {
    "colab": {},
    "colab_type": "code",
    "id": "FhQL38ZqVW83"
   },
   "outputs": [],
   "source": [
    "def display_closestwords_tsnescatterplot(model, word):\n",
    "    \n",
    "    arr = np.empty((0,100), dtype='f')\n",
    "    word_labels = [word]\n",
    "\n",
    "    # get close words\n",
    "    close_words = model.similar_by_word(word)\n",
    "    \n",
    "    # add the vector for each of the closest words to the array\n",
    "    arr = np.append(arr, np.array([model[word]]), axis=0)\n",
    "    for wrd_score in close_words:\n",
    "        wrd_vector = model[wrd_score[0]]\n",
    "        word_labels.append(wrd_score[0])\n",
    "        arr = np.append(arr, np.array([wrd_vector]), axis=0)\n",
    "        \n",
    "    # find tsne coords for 2 dimensions\n",
    "    tsne = TSNE(n_components=2, random_state=0)\n",
    "    np.set_printoptions(suppress=True)\n",
    "    Y = tsne.fit_transform(arr)\n",
    "\n",
    "    x_coords = Y[:, 0]\n",
    "    y_coords = Y[:, 1]\n",
    "    # display scatter plot\n",
    "    plt.scatter(x_coords, y_coords)\n",
    "\n",
    "    for label, x, y in zip(word_labels, x_coords, y_coords):\n",
    "        plt.annotate(label, xy=(x, y), xytext=(0, 0), textcoords='offset points')\n",
    "    plt.xlim(x_coords.min()+0.00005, x_coords.max()+0.00005)\n",
    "    plt.ylim(y_coords.min()+0.00005, y_coords.max()+0.00005)\n",
    "    plt.title('Word2Vec Trump related Words')\n",
    "    plt.show()"
   ]
  },
  {
   "cell_type": "code",
   "execution_count": 0,
   "metadata": {
    "colab": {
     "base_uri": "https://localhost:8080/",
     "height": 282
    },
    "colab_type": "code",
    "id": "YWj4bzxMVYvi",
    "outputId": "52335965-8600-4ef2-c4b0-c60e19463238"
   },
   "outputs": [
    {
     "data": {
      "image/png": "[encoded data removed]",
      "text/plain": [
       "<Figure size 432x288 with 1 Axes>"
      ]
     },
     "metadata": {
      "needs_background": "light",
      "tags": []
     },
     "output_type": "display_data"
    }
   ],
   "source": [
    "display_closestwords_tsnescatterplot(w2v_model, 'trump')\n"
   ]
  },
  {
   "cell_type": "code",
   "execution_count": 0,
   "metadata": {
    "colab": {
     "base_uri": "https://localhost:8080/",
     "height": 180
    },
    "colab_type": "code",
    "id": "zt4e5hwR_xYC",
    "outputId": "c0fbfb15-a073-4776-f3e2-cd8e6e92eecf"
   },
   "outputs": [
    {
     "data": {
      "text/plain": [
       "[('tehran', 0.8842542171478271),\n",
       " ('iranian', 0.7496998310089111),\n",
       " ('hezbollah', 0.6394436955451965),\n",
       " ('jcpoa', 0.6144747734069824),\n",
       " ('destabilizing', 0.6143420934677124),\n",
       " ('iranians', 0.6061540842056274),\n",
       " ('qatar', 0.6019567251205444),\n",
       " ('riyadh', 0.6014444231987),\n",
       " ('doha', 0.6006159782409668),\n",
       " ('khamenei', 0.5984948873519897)]"
      ]
     },
     "execution_count": 45,
     "metadata": {
      "tags": []
     },
     "output_type": "execute_result"
    }
   ],
   "source": [
    "w2v_model.wv.most_similar(\"iran\")"
   ]
  },
  {
   "cell_type": "code",
   "execution_count": 0,
   "metadata": {
    "colab": {
     "base_uri": "https://localhost:8080/",
     "height": 180
    },
    "colab_type": "code",
    "id": "tsZ5RFXv_07v",
    "outputId": "e8d388bb-e1e1-4711-baad-60d925a7165b"
   },
   "outputs": [
    {
     "data": {
      "text/plain": [
       "[('elect', 0.6392785310745239),\n",
       " ('cruz', 0.551868200302124),\n",
       " ('equanimity', 0.5407495498657227),\n",
       " ('trumpon', 0.535987377166748),\n",
       " ('conway', 0.4952229857444763),\n",
       " ('actually', 0.4857929050922394),\n",
       " ('course', 0.48514845967292786),\n",
       " ('obama', 0.48504215478897095),\n",
       " ('outright', 0.48315566778182983),\n",
       " ('ridiculous', 0.47930946946144104)]"
      ]
     },
     "execution_count": 46,
     "metadata": {
      "tags": []
     },
     "output_type": "execute_result"
    }
   ],
   "source": [
    "w2v_model.wv.most_similar(\"trump\")"
   ]
  },
  {
   "cell_type": "code",
   "execution_count": 0,
   "metadata": {
    "colab": {},
    "colab_type": "code",
    "id": "OpcZpEQHAT7P"
   },
   "outputs": [],
   "source": [
    "# Tokenizing Text -> Repsesenting each word by a number\n",
    "# Mapping of orginal word to number is preserved in word_index property of tokenizer\n",
    "\n",
    "#Tokenized applies basic processing like changing it yo lower case, explicitely setting that as False\n",
    "tokenizer = Tokenizer()\n",
    "tokenizer.fit_on_texts(X)\n",
    "\n",
    "X = tokenizer.texts_to_sequences(X)"
   ]
  },
  {
   "cell_type": "code",
   "execution_count": 0,
   "metadata": {
    "colab": {
     "base_uri": "https://localhost:8080/",
     "height": 33
    },
    "colab_type": "code",
    "id": "ANRBUsmBAfd-",
    "outputId": "674b959a-aeb9-4e4a-f584-b0ed4672605c"
   },
   "outputs": [
    {
     "data": {
      "text/plain": [
       "[389, 395, 10495, 54, 5509, 1286, 4840, 315, 205, 16]"
      ]
     },
     "execution_count": 48,
     "metadata": {
      "tags": []
     },
     "output_type": "execute_result"
    }
   ],
   "source": [
    "# lets check the first 10 words of first news\n",
    "#every word has been represented with a number\n",
    "X[0][:10]"
   ]
  },
  {
   "cell_type": "code",
   "execution_count": 0,
   "metadata": {
    "colab": {
     "base_uri": "https://localhost:8080/",
     "height": 358
    },
    "colab_type": "code",
    "id": "S9sIIwimAksw",
    "outputId": "a37cd75c-7afd-4b83-ddab-9271eca7f1e2"
   },
   "outputs": [
    {
     "name": "stdout",
     "output_type": "stream",
     "text": [
      "trump -> 1\n",
      "said -> 2\n",
      "president -> 3\n",
      "would -> 4\n",
      "people -> 5\n",
      "one -> 6\n",
      "state -> 7\n",
      "new -> 8\n",
      "obama -> 9\n",
      "also -> 10\n",
      "clinton -> 11\n",
      "house -> 12\n",
      "donald -> 13\n",
      "government -> 14\n",
      "states -> 15\n",
      "republican -> 16\n",
      "year -> 17\n",
      "white -> 18\n",
      "could -> 19\n",
      "told -> 20\n",
      "united -> 21\n"
     ]
    }
   ],
   "source": [
    "#Lets check few word to numerical replesentation\n",
    "#Mapping is preserved in dictionary -> word_index property of instance\n",
    "word_index = tokenizer.word_index\n",
    "for word, num in word_index.items():\n",
    "    print(f\"{word} -> {num}\")\n",
    "    if num == 21:\n",
    "        break \n",
    "      "
   ]
  },
  {
   "cell_type": "code",
   "execution_count": 0,
   "metadata": {
    "colab": {
     "base_uri": "https://localhost:8080/",
     "height": 180
    },
    "colab_type": "code",
    "id": "bCgssoVjacJi",
    "outputId": "8d74750a-c9ea-4d34-8210-6a37ff59a15f"
   },
   "outputs": [
    {
     "name": "stderr",
     "output_type": "stream",
     "text": [
      "IOPub data rate exceeded.\n",
      "The notebook server will temporarily stop sending output\n",
      "to the client in order to avoid crashing it.\n",
      "To change this limit, set the config variable\n",
      "`--NotebookApp.iopub_data_rate_limit`.\n",
      "\n",
      "Current values:\n",
      "NotebookApp.iopub_data_rate_limit=1000000.0 (bytes/sec)\n",
      "NotebookApp.rate_limit_window=3.0 (secs)\n",
      "\n"
     ]
    }
   ],
   "source": [
    "print(X)"
   ]
  },
  {
   "cell_type": "code",
   "execution_count": 0,
   "metadata": {
    "colab": {
     "base_uri": "https://localhost:8080/",
     "height": 33
    },
    "colab_type": "code",
    "id": "hObSbpZrbper",
    "outputId": "c7a9016f-9e61-49ff-b91b-609c3add0267"
   },
   "outputs": [
    {
     "name": "stdout",
     "output_type": "stream",
     "text": [
      "44897\n"
     ]
    }
   ],
   "source": [
    "print(len(X))"
   ]
  },
  {
   "cell_type": "code",
   "execution_count": 0,
   "metadata": {
    "colab": {
     "base_uri": "https://localhost:8080/",
     "height": 391
    },
    "colab_type": "code",
    "id": "VZDbCjBuAvP4",
    "outputId": "48b96ec7-b210-47b5-a6c2-9ac433dc868f"
   },
   "outputs": [
    {
     "data": {
      "image/png": "[encoded data removed]",
      "text/plain": [
       "<Figure size 576x432 with 1 Axes>"
      ]
     },
     "metadata": {
      "needs_background": "light",
      "tags": []
     },
     "output_type": "display_data"
    }
   ],
   "source": [
    "# For determining size of input...\n",
    "\n",
    "# Making histogram for no of words in news shows that most news article are under 700 words.\n",
    "# Lets keep each news small and truncate all news to 700 while tokenizing\n",
    "plt.figure(figsize=(8,6))\n",
    "plt.hist([len(x) for x in X], bins=500)\n",
    "plt.title('Histogram of Text that contain a number of words ')\n",
    "plt.show()\n",
    "\n",
    "# Its heavily skewed. There are news with 5000 words? Lets truncate these outliers :) "
   ]
  },
  {
   "cell_type": "code",
   "execution_count": 0,
   "metadata": {
    "colab": {
     "base_uri": "https://localhost:8080/",
     "height": 33
    },
    "colab_type": "code",
    "id": "URb8vUGKBEHA",
    "outputId": "0ea12240-3428-4fba-93ad-250d9e9b3ff6"
   },
   "outputs": [
    {
     "data": {
      "text/plain": [
       "41839"
      ]
     },
     "execution_count": 53,
     "metadata": {
      "tags": []
     },
     "output_type": "execute_result"
    }
   ],
   "source": [
    "nos = np.array([len(x) for x in X])\n",
    "len(nos[nos  < 500])\n",
    "# Out of 48k news, 42k have less than 500 words"
   ]
  },
  {
   "cell_type": "code",
   "execution_count": 0,
   "metadata": {
    "colab": {},
    "colab_type": "code",
    "id": "YYHfADSqBJAh"
   },
   "outputs": [],
   "source": [
    "#Lets keep all news to 500, add padding to news with less than 500 words and truncating long ones\n",
    "maxlen = 500\n",
    "\n",
    "#Making all news of size maxlen defined above\n",
    "X = pad_sequences(X, maxlen=maxlen)"
   ]
  },
  {
   "cell_type": "code",
   "execution_count": 0,
   "metadata": {
    "colab": {
     "base_uri": "https://localhost:8080/",
     "height": 33
    },
    "colab_type": "code",
    "id": "DHbRuE4NBMbC",
    "outputId": "7e097424-d922-432c-dc8f-95a807c10077"
   },
   "outputs": [
    {
     "data": {
      "text/plain": [
       "500"
      ]
     },
     "execution_count": 55,
     "metadata": {
      "tags": []
     },
     "output_type": "execute_result"
    }
   ],
   "source": [
    "\n",
    "# 0 is not associated to any word, as mapping of words started from 1\n",
    "# 0 will also be used later, if unknows word is encountered in test set\n",
    "len(X[0])"
   ]
  },
  {
   "cell_type": "code",
   "execution_count": 0,
   "metadata": {
    "colab": {},
    "colab_type": "code",
    "id": "j6ScI1SXBQEL"
   },
   "outputs": [],
   "source": [
    "# Adding 1 because of reserved 0 index\n",
    "# Embedding Layer creates one more vector for \"UNKNOWN\" words, or padded words (0s). This Vector is filled with zeros.\n",
    "# Thus our vocab size inceeases by 1\n",
    "vocab_size = len(tokenizer.word_index) + 1"
   ]
  },
  {
   "cell_type": "code",
   "execution_count": 0,
   "metadata": {
    "colab": {
     "base_uri": "https://localhost:8080/",
     "height": 33
    },
    "colab_type": "code",
    "id": "8DTnAka7ACl9",
    "outputId": "50cbff00-f9b1-4ab7-bf2c-4c39c107d565"
   },
   "outputs": [
    {
     "data": {
      "text/plain": [
       "122249"
      ]
     },
     "execution_count": 57,
     "metadata": {
      "tags": []
     },
     "output_type": "execute_result"
    }
   ],
   "source": [
    "vocab_size"
   ]
  },
  {
   "cell_type": "code",
   "execution_count": 0,
   "metadata": {
    "colab": {},
    "colab_type": "code",
    "id": "7Di-AsriBQ4X"
   },
   "outputs": [],
   "source": [
    "# Function to create weight matrix from word2vec gensim model\n",
    "def get_weight_matrix(model, vocab):\n",
    "    # total vocabulary size plus 0 for unknown words\n",
    "    vocab_size = len(vocab) + 1\n",
    "    # define weight matrix dimensions with all 0\n",
    "    weight_matrix = np.zeros((vocab_size, EMBEDDING_DIM))\n",
    "    # step vocab, store vectors using the Tokenizer's integer mapping\n",
    "    for word, i in vocab.items():\n",
    "        weight_matrix[i] = model[word]\n",
    "    return weight_matrix"
   ]
  },
  {
   "cell_type": "code",
   "execution_count": 0,
   "metadata": {
    "colab": {},
    "colab_type": "code",
    "id": "cVfB_bVrBYeS"
   },
   "outputs": [],
   "source": [
    "#Getting embedding vectors from word2vec and usings it as weights of non-trainable keras embedding layer\n",
    "embedding_vectors = get_weight_matrix(w2v_model, word_index)"
   ]
  },
  {
   "cell_type": "code",
   "execution_count": 0,
   "metadata": {
    "colab": {
     "base_uri": "https://localhost:8080/",
     "height": 228
    },
    "colab_type": "code",
    "id": "mJheCPWUd5bl",
    "outputId": "e3951b91-5c09-4ceb-c32a-b94e0a5cc823"
   },
   "outputs": [
    {
     "name": "stdout",
     "output_type": "stream",
     "text": [
      "[[ 0.          0.          0.         ...  0.          0.\n",
      "   0.        ]\n",
      " [-4.35053635 -1.37722933 -1.61260128 ... -1.23749185 -0.45487747\n",
      "  -1.65596247]\n",
      " [-0.97480702  2.05672646 -1.90692496 ...  0.27831793 -0.04492832\n",
      "   1.40384328]\n",
      " ...\n",
      " [ 0.02040803  0.03084279  0.03146309 ...  0.03504612 -0.0261843\n",
      "   0.00074886]\n",
      " [ 0.00057416 -0.00855438  0.01917638 ... -0.01223771 -0.02519854\n",
      "  -0.00105698]\n",
      " [ 0.01082426 -0.01931897 -0.00665537 ... -0.00577785  0.00375191\n",
      "   0.01526972]]\n"
     ]
    }
   ],
   "source": [
    "print(embedding_vectors)"
   ]
  },
  {
   "cell_type": "code",
   "execution_count": 0,
   "metadata": {
    "colab": {},
    "colab_type": "code",
    "id": "9AR1f5lqBbQI"
   },
   "outputs": [],
   "source": [
    "#Defining Neural Network\n",
    "from tensorflow.keras.optimizers import SGD\n",
    "model = Sequential()\n",
    "#Non-trainable embeddidng layer\n",
    "model.add(Embedding(vocab_size, output_dim=EMBEDDING_DIM, weights=[embedding_vectors], input_length=maxlen, trainable=False))\n",
    "#LSTM \n",
    "model.add(LSTM(units=128))\n",
    "model.add(Dense(1, activation='tanh'))\n",
    "model.compile(optimizer='adam', loss='binary_crossentropy', metrics=['acc'])\n",
    "\n"
   ]
  },
  {
   "cell_type": "code",
   "execution_count": 0,
   "metadata": {
    "colab": {
     "base_uri": "https://localhost:8080/",
     "height": 245
    },
    "colab_type": "code",
    "id": "f2AxBRQCBfPB",
    "outputId": "4aedb37a-e568-4b9d-f142-f138b5dd3690"
   },
   "outputs": [
    {
     "name": "stdout",
     "output_type": "stream",
     "text": [
      "Model: \"sequential\"\n",
      "_________________________________________________________________\n",
      "Layer (type)                 Output Shape              Param #   \n",
      "=================================================================\n",
      "embedding (Embedding)        (None, 500, 100)          12224900  \n",
      "_________________________________________________________________\n",
      "lstm (LSTM)                  (None, 128)               117248    \n",
      "_________________________________________________________________\n",
      "dense (Dense)                (None, 1)                 129       \n",
      "=================================================================\n",
      "Total params: 12,342,277\n",
      "Trainable params: 117,377\n",
      "Non-trainable params: 12,224,900\n",
      "_________________________________________________________________\n"
     ]
    }
   ],
   "source": [
    "model.summary()"
   ]
  },
  {
   "cell_type": "code",
   "execution_count": 0,
   "metadata": {
    "colab": {},
    "colab_type": "code",
    "id": "WH5hV29WBmNF"
   },
   "outputs": [],
   "source": [
    "#Train test split\n",
    "X_train, X_test, y_train, y_test = train_test_split(X, y) "
   ]
  },
  {
   "cell_type": "code",
   "execution_count": 0,
   "metadata": {
    "colab": {
     "base_uri": "https://localhost:8080/",
     "height": 228
    },
    "colab_type": "code",
    "id": "KPgzuSkVBnES",
    "outputId": "97fec6bb-9a0c-41a1-f90c-54d482390519"
   },
   "outputs": [
    {
     "name": "stdout",
     "output_type": "stream",
     "text": [
      "Epoch 1/6\n",
      "737/737 [==============================] - 67s 91ms/step - loss: 0.3006 - acc: 0.9034 - val_loss: 0.2414 - val_acc: 0.9192\n",
      "Epoch 2/6\n",
      "737/737 [==============================] - 66s 90ms/step - loss: 0.2578 - acc: 0.9160 - val_loss: 0.1748 - val_acc: 0.9564\n",
      "Epoch 3/6\n",
      "737/737 [==============================] - 66s 90ms/step - loss: 0.1272 - acc: 0.9655 - val_loss: 0.1050 - val_acc: 0.9676\n",
      "Epoch 4/6\n",
      "737/737 [==============================] - 66s 90ms/step - loss: 0.1445 - acc: 0.9600 - val_loss: 1.3308 - val_acc: 0.6746\n",
      "Epoch 5/6\n",
      "737/737 [==============================] - 66s 90ms/step - loss: 0.2496 - acc: 0.9220 - val_loss: 0.1808 - val_acc: 0.9638\n",
      "Epoch 6/6\n",
      "737/737 [==============================] - 67s 91ms/step - loss: 0.1236 - acc: 0.9641 - val_loss: 0.1153 - val_acc: 0.9749\n"
     ]
    },
    {
     "data": {
      "text/plain": [
       "<tensorflow.python.keras.callbacks.History at 0x7f3ec15da3c8>"
      ]
     },
     "execution_count": 64,
     "metadata": {
      "tags": []
     },
     "output_type": "execute_result"
    }
   ],
   "source": [
    "model.fit(X_train, y_train, validation_split=0.3, epochs=6)"
   ]
  },
  {
   "cell_type": "code",
   "execution_count": 0,
   "metadata": {
    "colab": {},
    "colab_type": "code",
    "id": "9xmBqexHMcVO"
   },
   "outputs": [],
   "source": [
    "#Prediction is in probability of news being real, so converting into classes\n",
    "# Class 0 (Fake) if predicted prob < 0.5, else class 1 (Real)\n",
    "y_pred = (model.predict(X_test) >= 0.5).astype(\"int\")"
   ]
  },
  {
   "cell_type": "code",
   "execution_count": 0,
   "metadata": {
    "colab": {
     "base_uri": "https://localhost:8080/",
     "height": 33
    },
    "colab_type": "code",
    "id": "Lyo-2W7BMehp",
    "outputId": "076b872a-97a6-4033-de9d-4af2d705e319"
   },
   "outputs": [
    {
     "data": {
      "text/plain": [
       "0.9765701559020045"
      ]
     },
     "execution_count": 66,
     "metadata": {
      "tags": []
     },
     "output_type": "execute_result"
    }
   ],
   "source": [
    "accuracy_score(y_test, y_pred)"
   ]
  },
  {
   "cell_type": "code",
   "execution_count": 0,
   "metadata": {
    "colab": {
     "base_uri": "https://localhost:8080/",
     "height": 163
    },
    "colab_type": "code",
    "id": "oLs_P-mpMg_K",
    "outputId": "976e023a-010e-4680-df1e-a36d1eb94f44"
   },
   "outputs": [
    {
     "name": "stdout",
     "output_type": "stream",
     "text": [
      "              precision    recall  f1-score   support\n",
      "\n",
      "           0       0.99      0.97      0.98      5914\n",
      "           1       0.96      0.99      0.98      5311\n",
      "\n",
      "    accuracy                           0.98     11225\n",
      "   macro avg       0.98      0.98      0.98     11225\n",
      "weighted avg       0.98      0.98      0.98     11225\n",
      "\n"
     ]
    }
   ],
   "source": [
    "print(classification_report(y_test, y_pred))"
   ]
  },
  {
   "cell_type": "code",
   "execution_count": 0,
   "metadata": {
    "colab": {
     "base_uri": "https://localhost:8080/",
     "height": 50
    },
    "colab_type": "code",
    "id": "3Xfs3o6DM3bm",
    "outputId": "5ab66c0f-b8d7-4967-c1b2-ed3684e798b3"
   },
   "outputs": [
    {
     "data": {
      "text/plain": [
       "array([[5714,  200],\n",
       "       [  63, 5248]])"
      ]
     },
     "execution_count": 68,
     "metadata": {
      "tags": []
     },
     "output_type": "execute_result"
    }
   ],
   "source": [
    "from sklearn.metrics import confusion_matrix\n",
    "cm = confusion_matrix(y_test,y_pred)\n",
    "cm"
   ]
  },
  {
   "cell_type": "code",
   "execution_count": 0,
   "metadata": {
    "colab": {
     "base_uri": "https://localhost:8080/",
     "height": 315
    },
    "colab_type": "code",
    "id": "9hY18hSF9scU",
    "outputId": "8e8815c4-826b-4947-8abd-198860c5e39b"
   },
   "outputs": [
    {
     "data": {
      "text/plain": [
       "[Text(0, 0.5, 'Rumor'), Text(0, 1.5, 'No Rumor')]"
      ]
     },
     "execution_count": 69,
     "metadata": {
      "tags": []
     },
     "output_type": "execute_result"
    },
    {
     "data": {
      "image/png": "[encoded data removed]",
      "text/plain": [
       "<Figure size 432x288 with 2 Axes>"
      ]
     },
     "metadata": {
      "needs_background": "light",
      "tags": []
     },
     "output_type": "display_data"
    }
   ],
   "source": [
    "ax= plt.subplot()\n",
    "sns.heatmap(cm, annot=True, ax = ax,fmt=\".0f\"); #annot=True to annotate cells\n",
    "\n",
    "# labels, title and ticks\n",
    "ax.set_xlabel('Predicted labels');ax.set_ylabel('True labels'); \n",
    "ax.set_title('Confusion Matrix'); \n",
    "ax.xaxis.set_ticklabels(['Rumor', 'No Rumor']); ax.yaxis.set_ticklabels(['Rumor', 'No Rumor'])"
   ]
  }
 ],
 "metadata": {
  "accelerator": "GPU",
  "colab": {
   "name": "Rumor Propagation.ipynb",
   "provenance": []
  },
  "kernelspec": {
   "display_name": "Python 3",
   "language": "python",
   "name": "python3"
  },
  "language_info": {
   "codemirror_mode": {
    "name": "ipython",
    "version": 3
   },
   "file_extension": ".py",
   "mimetype": "text/x-python",
   "name": "python",
   "nbconvert_exporter": "python",
   "pygments_lexer": "ipython3",
   "version": "3.7.3"
  }
 },
 "nbformat": 4,
 "nbformat_minor": 1
}
